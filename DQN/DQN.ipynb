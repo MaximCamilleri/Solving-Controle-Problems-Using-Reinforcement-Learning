{
 "cells": [
  {
   "cell_type": "markdown",
   "metadata": {},
   "source": [
    "# Lunar Lander using DQN\n",
    "\n",
    "## Imports"
   ]
  },
  {
   "cell_type": "code",
   "execution_count": 29,
   "metadata": {},
   "outputs": [],
   "source": [
    "import warnings\n",
    "warnings.filterwarnings(\"ignore\")\n",
    "\n",
    "import gym\n",
    "import numpy as np\n",
    "import torch\n",
    "import matplotlib.pyplot as plt\n",
    "from collections import namedtuple, deque\n",
    "import itertools\n",
    "import random\n",
    "\n",
    "import DQNconfig"
   ]
  },
  {
   "cell_type": "code",
   "execution_count": 30,
   "metadata": {},
   "outputs": [],
   "source": [
    "from torch.utils.tensorboard import SummaryWriter\n",
    "writer = SummaryWriter(\"DQNlogs/\")"
   ]
  },
  {
   "cell_type": "markdown",
   "metadata": {},
   "source": [
    "## Environment "
   ]
  },
  {
   "cell_type": "code",
   "execution_count": 31,
   "metadata": {},
   "outputs": [],
   "source": [
    "env = gym.make(\"LunarLander-v2\")\n",
    "obs = env.reset()\n",
    "episode_reward = 0.0"
   ]
  },
  {
   "cell_type": "markdown",
   "metadata": {},
   "source": [
    "## Replay memory"
   ]
  },
  {
   "cell_type": "code",
   "execution_count": 32,
   "metadata": {},
   "outputs": [],
   "source": [
    "Transition = namedtuple('Transition', ('states', 'actions', 'rewards', 'dones', 'next_states'))\n",
    "\n",
    "class Replay_memory():\n",
    "\n",
    "    def __init__(self, env, fullsize, minsize, batchsize):\n",
    "        self.env = env\n",
    "        self.memory = deque(maxlen=fullsize)\n",
    "        self.rewards = deque(maxlen=50)\n",
    "        self.batchsize = batchsize\n",
    "        self.minsize = minsize\n",
    "\n",
    "    def append(self, transition):\n",
    "        self.memory.append(transition) # append episode to memory \n",
    "    \n",
    "    def sample_batch(self):\n",
    "        batch = random.sample(self.memory, self.batchsize) # sample the size of batchsize from memory \n",
    "        batch = Transition(*zip(*batch)) #tuple of sampled batches \n",
    "        states = torch.from_numpy(np.array(batch.states, dtype=np.float32)) # tensor of states\n",
    "        actions = torch.from_numpy(np.array(batch.actions, dtype=np.int64)).unsqueeze(1) # tensor of actions\n",
    "        rewards = torch.from_numpy(np.array(batch.rewards, dtype=np.float32)).unsqueeze(1) # tensor of rewards\n",
    "        dones = torch.from_numpy(np.array(batch.dones, dtype=np.bool8)).unsqueeze(1) # tensor of dones (done is true when the end is reached)\n",
    "        next_states = torch.from_numpy(np.array(batch.next_states, dtype=np.float32)) # tensor of next states\n",
    "        return states, actions, rewards, dones, next_states\n",
    "\n",
    "    def initialize(self):\n",
    "        obs = env.reset() # restart\n",
    "        for _ in range(self.minsize):\n",
    "            action = self.env.action_space.sample() # random action\n",
    "            new_obs, reward, done, info = env.step(action) # perform action\n",
    "            transition = Transition(obs, action, reward, done, new_obs)\n",
    "            self.append(transition)\n",
    "            obs = new_obs\n",
    "            if done:\n",
    "                self.env.reset()\n",
    "        return self"
   ]
  },
  {
   "cell_type": "code",
   "execution_count": 33,
   "metadata": {},
   "outputs": [],
   "source": [
    "replay_memory = Replay_memory(env, DQNconfig.BUFFER_SIZE, DQNconfig.MIN_REPLAY_SIZE, DQNconfig.BATCH_SIZE).initialize() # \"LunarLander-v2\", 10000, 5000, 64"
   ]
  },
  {
   "cell_type": "markdown",
   "metadata": {},
   "source": [
    "## DQN"
   ]
  },
  {
   "cell_type": "code",
   "execution_count": 34,
   "metadata": {},
   "outputs": [
    {
     "name": "stdout",
     "output_type": "stream",
     "text": [
      "DQN(\n",
      "  (a1): Linear(in_features=8, out_features=64, bias=True)\n",
      "  (a2): Linear(in_features=64, out_features=4, bias=True)\n",
      ")\n"
     ]
    }
   ],
   "source": [
    "class DQN(torch.nn.Module):\n",
    "    def __init__(self, inputs, outputs):\n",
    "        super(DQN, self).__init__()\n",
    "        self.a1 = torch.nn.Linear(inputs, 64)\n",
    "        self.a2 = torch.nn.Linear(64, outputs)\n",
    "    \n",
    "    def forward(self, x):\n",
    "        output = self.a1(x)\n",
    "        output = torch.tanh(output) # activation function\n",
    "        return self.a2(output)\n",
    "    \n",
    "    def __call__(self, x):\n",
    "        return self.forward(x)\n",
    "\n",
    "dqn_policy = DQN(inputs = env.observation_space.shape[0], outputs = env.action_space.n)\n",
    "dqn_target = DQN(inputs = env.observation_space.shape[0], outputs = env.action_space.n)\n",
    "dqn_target.load_state_dict(dqn_policy.state_dict()) # loading policy model into target\n",
    "print(dqn_target.eval())\n",
    "loss_fn = torch.nn.SmoothL1Loss()\n",
    "learning_rate = 0.001\n",
    "optimizer = torch.optim.Adam(dqn_policy.parameters(), lr=learning_rate)"
   ]
  },
  {
   "cell_type": "code",
   "execution_count": 35,
   "metadata": {},
   "outputs": [],
   "source": [
    "def epsilon_greedy_policy(epsilon, obs):\n",
    "    rnd_sample = random.random()\n",
    "    if rnd_sample <= epsilon:\n",
    "        action = env.action_space.sample()\n",
    "    else:\n",
    "        with torch.no_grad():\n",
    "            action = int(torch.argmax(dqn_policy(torch.Tensor(obs))))\n",
    "    return action"
   ]
  },
  {
   "cell_type": "markdown",
   "metadata": {},
   "source": [
    "## Training"
   ]
  },
  {
   "cell_type": "code",
   "execution_count": 36,
   "metadata": {},
   "outputs": [],
   "source": [
    "obs = env.reset()\n",
    "eps_threshold = DQNconfig.EPS_START\n",
    "episode = 1\n",
    "\n",
    "rewards = []\n",
    "episodes = []\n",
    "epsilon_values = []\n",
    "DQN_loss = []"
   ]
  },
  {
   "cell_type": "code",
   "execution_count": 37,
   "metadata": {},
   "outputs": [
    {
     "name": "stdout",
     "output_type": "stream",
     "text": [
      "Episode: 50 Avg Results: -123.26510214556163 Epsilon: 0.7822236754458713\n",
      "Episode: 100 Avg Results: -74.83308218415263 Epsilon: 0.6088145090359074\n",
      "Episode: 150 Avg Results: -42.91195023413886 Epsilon: 0.4738479773082268\n",
      "Episode: 200 Avg Results: -4.8687442553337625 Epsilon: 0.36880183088056995\n",
      "Episode: 250 Avg Results: 14.175447553120877 Epsilon: 0.28704309604425327\n",
      "Episode: 300 Avg Results: 16.799959825682848 Epsilon: 0.22340924607110255\n",
      "Episode: 350 Avg Results: 51.401695913361685 Epsilon: 0.17388222158237718\n",
      "Episode: 400 Avg Results: 80.95622732280566 Epsilon: 0.1353347165085562\n",
      "Episode: 450 Avg Results: 93.20791463904068 Epsilon: 0.10533270926593409\n",
      "Episode: 500 Avg Results: 163.59454198853217 Epsilon: 0.08198177029173696\n",
      "Episode: 550 Avg Results: 169.80344956250795 Epsilon: 0.06380744126877576\n",
      "Episode: 600 Avg Results: 156.17958070372887 Epsilon: 0.05\n",
      "Episode: 650 Avg Results: 145.6211045230118 Epsilon: 0.05\n",
      "Episode: 700 Avg Results: 155.0612697761727 Epsilon: 0.05\n",
      "Solved at episode: 718 Avg Results: 195.251934805931\n"
     ]
    }
   ],
   "source": [
    "for step in itertools.count():\n",
    "    action = epsilon_greedy_policy(eps_threshold, obs) # select action from the action space\n",
    "    new_obs, reward, done, _ = env.step(action) # perform action on env\n",
    "    replay_memory.append(Transition(obs, action, reward, done, new_obs)) # save episode\n",
    "    episode_reward += reward # cumulative episode reward\n",
    "    obs = new_obs\n",
    "    \n",
    "    if done: # checking if end of env has been reached\n",
    "        episode += 1 # move on to next episode \n",
    "        eps_threshold = np.max((eps_threshold * DQNconfig.EPS_DECAY, DQNconfig.EPS_END)) # decrease epsilon value\n",
    "        replay_memory.rewards.append(episode_reward)\n",
    "        obs = env.reset()\n",
    "        avg_res = np.mean(replay_memory.rewards) # calculate the average reward over the last 50 eps\n",
    "        rewards.append(avg_res)\n",
    "        episodes.append(episode)\n",
    "        epsilon_values.append(eps_threshold)\n",
    "        writer.add_scalar(\"Epsilon\", eps_threshold, episode)\n",
    "        writer.add_scalar(\"Rewards\", reward, episode)\n",
    "\n",
    "        if episode % 50 == 0: \n",
    "            avg_res = np.mean(replay_memory.rewards)\n",
    "            print(f'Episode: {episode} Avg Results: {avg_res} Epsilon: {eps_threshold}') # print average reward every 50 eps\n",
    "\n",
    "        if avg_res >= 195:\n",
    "            print(f'Solved at episode: {episode} Avg Results: {avg_res}') # stop training when average reward is over 195\n",
    "            break\n",
    "        \n",
    "        if step % DQNconfig.TARGET_UPDATE_FREQ == 0:\n",
    "            dqn_target.load_state_dict(dqn_policy.state_dict()) # update the target based on the policy\n",
    "\n",
    "        episode_reward = 0 # reset episode reward for next ep\n",
    "\n",
    "    b_states, b_actions, b_rewards, b_dones, b_next_states = replay_memory.sample_batch() # take random states from previous episodes\n",
    "\n",
    "    qvalues = dqn_policy(b_states).gather(1, b_actions) # retrieve Q-value\n",
    "    \n",
    "    with torch.no_grad(): # updating DQN neural network\n",
    "        target_qvalues = dqn_target(b_next_states)\n",
    "        max_target_qvalues = torch.max(target_qvalues, axis=1).values.unsqueeze(1)\n",
    "        expected_qvalues = b_rewards + DQNconfig.GAMMA * (1 - b_dones.type(torch.int64)) * max_target_qvalues\n",
    "\n",
    "    loss = loss_fn(qvalues, expected_qvalues) # SmoothL1Loss\n",
    "    DQN_loss.append(loss)\n",
    "    optimizer.zero_grad()\n",
    "    writer.add_scalar(\"DQN Loss\", loss, episode)\n",
    "    loss.backward() # backpropagate network weights\n",
    "    for param in dqn_policy.parameters():\n",
    "        param.grad.data.clamp_(-1, 1)\n",
    "    optimizer.step()\n",
    "\n",
    "writer.flush()\n",
    "writer.close()"
   ]
  },
  {
   "cell_type": "markdown",
   "metadata": {},
   "source": [
    "## Evaluation"
   ]
  },
  {
   "cell_type": "markdown",
   "metadata": {},
   "source": [
    "#### Rewards Graph"
   ]
  },
  {
   "cell_type": "code",
   "execution_count": 38,
   "metadata": {},
   "outputs": [
    {
     "data": {
      "image/png": "[encoded data removed]",
      "text/plain": [
       "<Figure size 432x288 with 1 Axes>"
      ]
     },
     "metadata": {
      "needs_background": "light"
     },
     "output_type": "display_data"
    }
   ],
   "source": [
    "(fig, ax) = plt.subplots(1, 1)\n",
    "ax.set_xlabel('Episode')\n",
    "ax.set_ylabel('Reward')\n",
    "ax.set_title('Reward vs Episode')\n",
    "ax.plot(range(1, len(rewards) + 1), rewards, color='blue', linestyle='-', linewidth=1, label = \"Reward\")\n",
    "ax.axhline(y = 195, color = 'r', linestyle = '--')\n",
    "ax.grid()"
   ]
  },
  {
   "cell_type": "code",
   "execution_count": 39,
   "metadata": {},
   "outputs": [
    {
     "data": {
      "image/png": "[encoded data removed]",
      "text/plain": [
       "<Figure size 432x288 with 1 Axes>"
      ]
     },
     "metadata": {
      "needs_background": "light"
     },
     "output_type": "display_data"
    }
   ],
   "source": [
    "(fig, ax) = plt.subplots(1, 1)\n",
    "ax.set_xlabel('Epsilon')\n",
    "ax.set_ylabel('Reward')\n",
    "ax.set_title('Epsilon vs Episode')\n",
    "ax.plot(range(1, len(epsilon_values) + 1), epsilon_values, color='blue', linestyle='-', linewidth=1, label = \"Reward\")\n",
    "ax.grid()"
   ]
  },
  {
   "cell_type": "code",
   "execution_count": 40,
   "metadata": {},
   "outputs": [
    {
     "data": {
      "image/png": "[encoded data removed]",
      "text/plain": [
       "<Figure size 432x288 with 1 Axes>"
      ]
     },
     "metadata": {
      "needs_background": "light"
     },
     "output_type": "display_data"
    }
   ],
   "source": [
    "(fig, ax) = plt.subplots(1, 1)\n",
    "ax.set_xlabel('Episode')\n",
    "ax.set_ylabel('DQN Loss')\n",
    "ax.set_title('DQN Loss vs Episode')\n",
    "ax.plot(range(1, len(DQN_loss) + 1), DQN_loss, color='blue', linestyle='-', linewidth=1, label = \"Reward\")\n",
    "ax.grid()"
   ]
  },
  {
   "cell_type": "code",
   "execution_count": 51,
   "metadata": {},
   "outputs": [],
   "source": [
    "from colabgymrender.recorder import Recorder\n",
    "env = Recorder(env, './video')"
   ]
  },
  {
   "cell_type": "code",
   "execution_count": null,
   "metadata": {},
   "outputs": [],
   "source": [
    "state = env.reset()\n",
    "done = False\n",
    "while not terminal:\n",
    "    with torch.no_grad():\n",
    "        action = int(torch.argmax(dqn_policy(torch.Tensor(obs))))\n",
    "        obs, reward, terminal, info = env.step(action)\n",
    "env.play()"
   ]
  }
 ],
 "metadata": {
  "kernelspec": {
   "display_name": "Python 3",
   "language": "python",
   "name": "python3"
  },
  "language_info": {
   "codemirror_mode": {
    "name": "ipython",
    "version": 3
   },
   "file_extension": ".py",
   "mimetype": "text/x-python",
   "name": "python",
   "nbconvert_exporter": "python",
   "pygments_lexer": "ipython3",
   "version": "3.7.0"
  },
  "orig_nbformat": 4,
  "vscode": {
   "interpreter": {
    "hash": "ba52e550df5dd7c4d4156f043c0b54db698368195948b3b2935474e916126db8"
   }
  }
 },
 "nbformat": 4,
 "nbformat_minor": 2
}
